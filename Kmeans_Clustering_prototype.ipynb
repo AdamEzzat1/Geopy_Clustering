{
  "nbformat": 4,
  "nbformat_minor": 0,
  "metadata": {
    "colab": {
      "name": "Kmeans_Clustering_prototype.ipynb",
      "provenance": [],
      "collapsed_sections": []
    },
    "kernelspec": {
      "name": "python3",
      "display_name": "Python 3"
    },
    "language_info": {
      "name": "python"
    }
  },
  "cells": [
    {
      "cell_type": "code",
      "metadata": {
        "colab": {
          "base_uri": "https://localhost:8080/"
        },
        "id": "zfX5uXy6NPBg",
        "outputId": "e87ad9a7-26fb-46cc-d916-bab682a84ed3"
      },
      "source": [
        "pip install geopy"
      ],
      "execution_count": 1,
      "outputs": [
        {
          "output_type": "stream",
          "text": [
            "Requirement already satisfied: geopy in /usr/local/lib/python3.7/dist-packages (1.17.0)\n",
            "Requirement already satisfied: geographiclib<2,>=1.49 in /usr/local/lib/python3.7/dist-packages (from geopy) (1.52)\n"
          ],
          "name": "stdout"
        }
      ]
    },
    {
      "cell_type": "code",
      "metadata": {
        "colab": {
          "base_uri": "https://localhost:8080/",
          "height": 1000
        },
        "id": "lg65IoKnKWV_",
        "outputId": "0dae22d0-64cb-41ab-d4c0-04132634b395"
      },
      "source": [
        "import numpy as np\n",
        "import pandas as pd\n",
        "from  matplotlib  import pyplot as plt  \n",
        "from sklearn.cluster import KMeans\n",
        "from geopy.geocoders import Nominatim\n",
        "geocoder = Nominatim(user_agent = 'your_app_name')\n",
        "from geopy.distance import geodesic\n",
        "\n",
        "x1 = []\n",
        "x2 = []\n",
        "x3 = []\n",
        "y1 = []\n",
        "y2 = []\n",
        "y3 = []\n",
        "\n",
        "# user supplied data points (udata)\n",
        "udata = np.array([[37.005783, -121.568275], [37.1305012, -121.6543901], [37.238194, -121.989475],\n",
        " \t\t     [37.3229978, -122.0321823], [37.335278, -121.891944], [37.354107,-121.955238],\n",
        "         [37.384143664, -122.1010], [37.386051, -122.083855], [37.424107, -122.166077], [37.468319, -122.143936]])\n",
        "\n",
        "\n",
        "#print(data[0][0])\n",
        "#print(data[0][1])\n",
        "#print(len(data))\n",
        "data = []\n",
        "\n",
        "schools = np.array([[37.100, -121.700], [37.330, -121.600], [37.410, -122.110]])\n",
        "Slist = list(schools)                 # list of lists\n",
        "MaxDist = 15 \n",
        "\n",
        "# Below we will clean the user supplied data based on having maximum distacnce \n",
        "# between any data point and at least one of the schools.\n",
        "for  sublist  in  udata :                 # sublist is one city/location\n",
        "  lat = sublist[0]\n",
        "  lng = sublist[1]\n",
        "  # calculate the distance between (lat, lng) and every school, at least one\n",
        "  # distance need to be less than MaxDist\n",
        "  # if the data point qualifies save it into data[[]] otherwise skip it.\n",
        "  for school in schools :\n",
        "    flag = False\n",
        "    city = (lat, lng)\n",
        "    sch = (school[0], school[1])\n",
        "    dist = geodesic(city, sch).miles\n",
        "    print(lat, lng, dist)\n",
        "    if dist > MaxDist :\n",
        "      continue\n",
        "    else :\n",
        "      flag = True\n",
        "      break\n",
        "  if flag :\n",
        "    data.append([lat, lng])               # data has qualified cities/locations\n",
        "\n",
        "# data[[]] has qualified user data only\n",
        "print(len(data))\n",
        "print(data)\n",
        "\n",
        "C = []                             # C is list of centroids for clusters\n",
        "count = []\n",
        "\n",
        "kmeans = KMeans(n_clusters = 3, random_state = 0).fit(data)\n",
        "\n",
        "# lbl is an array where entry represent the cluster # the \n",
        "# corresponding data[] belongs to\n",
        "lbl = kmeans.labels_ \n",
        "\n",
        "# idx is a list of length = # of cities in the data list\n",
        "# index = i into idx list represent city in the data[i] list\n",
        "# idx[i] content = the cluster that the city belongs to\n",
        "# data[i] represent a city and content of idx[i] is the corresponding cluster #\n",
        "idx = list(lbl)                      # cast lbl to be a list \n",
        "#print(idx)\n",
        "\n",
        "Cent = kmeans.cluster_centers_       # Center array for the clusters\n",
        "#print(\"Cent = \", Cent)\n",
        "# len(C) is the number of Centroids/Clusters\n",
        "C = list(Cent) \n",
        "#print (\"C = \", C)\n",
        "print(\"length of C[] = \", len(C))         \n",
        "#C = [[x,y], [z, k], [i,j]]\n",
        "print(\"first Centroid = \", C[0][0], C[0][1])\n",
        "print(\"second centroid = \", C[1][0], C[1][1])\n",
        "print(\"third centroid = \", C[2][0], C[2][1])\n",
        "\n",
        "#kmeans.predict([[1, 3], [8, 2], [17,2]])\n",
        "\n",
        "#print(len(data))\n",
        "print(\"idx = \", idx)\n",
        "x1.clear()\n",
        "y1.clear()\n",
        "x2.clear()\n",
        "y2.clear()\n",
        "x3.clear()\n",
        "y3.clear()\n",
        "\n",
        "for i  in range (0, len(data)):\n",
        "  if (idx[i] == 0):                             # 1st cluster\n",
        "    x1.append(data[i][0])\n",
        "    y1.append(data[i][1])\n",
        "  elif (idx[i] == 1):                           # 2nd cluster\n",
        "    x2.append(data[i][0])\n",
        "    y2.append(data[i][1])\n",
        "  else:\n",
        "    x3.append(data[i][0])                       # 3rd cluster\n",
        "    y3.append(data[i][1]) \n",
        "#print(x1)\n",
        "#print(y1)\n",
        "#print(x2)\n",
        "#print(y2)\n",
        "#print(x3)\n",
        "#print(y3)\n",
        "count.append( len(x1) )                         # count of cities in cluster-1\n",
        "count.append( len(x2) )                         # count of cities in clutser-2\n",
        "count.append( len(x3) )                         # count of cities in cluster-3\n",
        "print(\"Count = \", count)\n",
        "\n",
        "# plt.plot(x1, y1, marker='o', color= 'red')\n",
        "plt.plot(x1, y1, 'ro', label= 'cluster1')\n",
        "#\n",
        "# Plotting cluster2\n",
        "plt.plot(x2, y2, 'bo', label= 'cluster2')\n",
        "#\n",
        "# Plotting cluster3\n",
        "# plt.plot(x3, y3, marker='o', color='green')\n",
        "plt.plot(x3, y3, 'go', label = 'cluster3')\n",
        "#\n",
        "# Plot Centroids in black\n",
        "plt.plot(C[0][0], C[0][1], 'kx', label = 'Centers')\n",
        "plt.plot(C[1][0], C[1][1], 'kx' )\n",
        "plt.plot(C[2][0], C[2][1], 'kx' )\n",
        "#\n",
        "# Plot schools in purple \n",
        "plt.plot(schools[0,0], schools[0,1], 'ms', label = 'Schools')\n",
        "plt.plot(schools[1,0], schools[1,1], 'ms')\n",
        "plt.plot(schools[2,0], schools[2,1], 'ms')\n",
        "#\n",
        "plt.xlabel('Longitude (degree)')\n",
        "plt.ylabel('Latitude (degree)')\n",
        "#\n",
        "# Adding plot Legend\n",
        "plt.legend()\n",
        "plt.title('School Clustering')\n",
        "plt.show()\n",
        "#\n",
        "# find shortest distance between each cluster center and any school\n",
        "shortestDistance = 0 \n",
        "curDistance = 0\n",
        "j = 0                             # cluster center index in C list \n",
        "#print(\"Cluster centers = \", C)    \n",
        "for cc in C :                     # for every cluster center\n",
        "  x = cc[0]\n",
        "  y = cc[1]\n",
        "  clusterCenter = (x, y)\n",
        "  print(\"Cluster Center = \", clusterCenter)\n",
        "  sdsi = 0                        # shortest distance school index\n",
        "  i = -1                          # index inthe schools list\n",
        "  for school in Slist :\n",
        "    i += 1\n",
        "    sch = (school[0], school[1])\n",
        "    if i == 0 :    \n",
        "      #print(\"first school = \", sch, \" clusterCenter = \", clusterCenter)\n",
        "      shortestDistance = geodesic(clusterCenter, sch).miles\n",
        "      #print(shortestDistance)\n",
        "      continue\n",
        "    else:\n",
        "      #print(\"next school = \", sch, \"clusterCenter =\", clusterCenter)\n",
        "      curDistance = geodesic(clusterCenter, sch).miles\n",
        "      #print(curDistance)\n",
        "      if curDistance < shortestDistance :\n",
        "        shortestDistance = curDistance\n",
        "        #print(shortestDistance)\n",
        "        sdsi = i\n",
        "  print(\"Cluster -\", j+1, \" = \", count[j], \"and is closest to school \", schools[sdsi], \"distance = \", shortestDistance)\n",
        "  print()\n",
        "  j += 1\n",
        "  \n",
        "\n",
        "\n",
        "#print(\"cluster1 = \", count1, \"and is closest to School y\" )\n",
        "#print(\"cluster2 = \", count2)\n",
        "#print(\"cluster3 = \", count3)\n"
      ],
      "execution_count": 2,
      "outputs": [
        {
          "output_type": "stream",
          "text": [
            "37.005783 -121.568275 9.758020151911161\n",
            "37.1305012 -121.6543901 3.281560249931917\n",
            "37.238194 -121.989475 18.601699805064047\n",
            "37.238194 -121.989475 22.375518818614356\n",
            "37.238194 -121.989475 13.580764073628698\n",
            "37.3229978 -122.0321823 23.920099413686245\n",
            "37.3229978 -122.0321823 23.805978200728614\n",
            "37.3229978 -122.0321823 7.371931472761042\n",
            "37.335278 -121.891944 19.372959512098888\n",
            "37.335278 -121.891944 16.080716257451975\n",
            "37.335278 -121.891944 13.060913426474757\n",
            "37.354107 -121.955238 22.476093844001884\n",
            "37.354107 -121.955238 19.630110915049897\n",
            "37.354107 -121.955238 9.348400691879297\n",
            "37.384143664 -122.101 29.542205808514254\n",
            "37.384143664 -122.101 27.83141210252093\n",
            "37.384143664 -122.101 1.8506095011650208\n",
            "37.386051 -122.083855 28.93095011271518\n",
            "37.386051 -122.083855 26.91466276180297\n",
            "37.386051 -122.083855 2.19020829178973\n",
            "37.424107 -122.166077 34.05162332907001\n",
            "37.424107 -122.166077 31.822776061513398\n",
            "37.424107 -122.166077 3.2343400444411405\n",
            "37.468319 -122.143936 35.26388854375564\n",
            "37.468319 -122.143936 31.410115469534766\n",
            "37.468319 -122.143936 4.433726798902448\n",
            "10\n",
            "[[37.005783, -121.568275], [37.1305012, -121.6543901], [37.238194, -121.989475], [37.3229978, -122.0321823], [37.335278, -121.891944], [37.354107, -121.955238], [37.384143664, -122.101], [37.386051, -122.083855], [37.424107, -122.166077], [37.468319, -122.143936]]\n",
            "length of C[] =  3\n",
            "first Centroid =  37.3126442 -121.967209825\n",
            "second centroid =  37.0681421 -121.61133255\n",
            "third centroid =  37.415655166 -122.123717\n",
            "idx =  [1, 1, 0, 0, 0, 0, 2, 2, 2, 2]\n",
            "Count =  [4, 2, 4]\n"
          ],
          "name": "stdout"
        },
        {
          "output_type": "display_data",
          "data": {
            "image/png": "[encoded data removed]",
            "text/plain": [
              "<Figure size 432x288 with 1 Axes>"
            ]
          },
          "metadata": {
            "tags": [],
            "needs_background": "light"
          }
        },
        {
          "output_type": "stream",
          "text": [
            "Cluster Center =  (37.3126442, -121.967209825)\n",
            "Cluster - 1  =  4 and is closest to school  [  37.41 -122.11] distance =  10.337191804440014\n",
            "\n",
            "Cluster Center =  (37.0681421, -121.61133255)\n",
            "Cluster - 2  =  2 and is closest to school  [  37.1 -121.7] distance =  5.3687897792324915\n",
            "\n",
            "Cluster Center =  (37.415655166, -122.123717)\n",
            "Cluster - 3  =  4 and is closest to school  [  37.41 -122.11] distance =  0.8493841381611366\n",
            "\n"
          ],
          "name": "stdout"
        }
      ]
    },
    {
      "cell_type": "code",
      "metadata": {
        "colab": {
          "base_uri": "https://localhost:8080/"
        },
        "id": "EGCYmLpnb6aQ",
        "outputId": "82d75605-3ff7-4dd0-aea0-a3f68db5fbb0"
      },
      "source": [
        "pip install geopy"
      ],
      "execution_count": 3,
      "outputs": [
        {
          "output_type": "stream",
          "text": [
            "Requirement already satisfied: geopy in /usr/local/lib/python3.7/dist-packages (1.17.0)\n",
            "Requirement already satisfied: geographiclib<2,>=1.49 in /usr/local/lib/python3.7/dist-packages (from geopy) (1.52)\n"
          ],
          "name": "stdout"
        }
      ]
    },
    {
      "cell_type": "code",
      "metadata": {
        "id": "6VefbeFbb_71"
      },
      "source": [
        "from geopy.geocoders import Nominatim\n",
        "geocoder = Nominatim(user_agent = 'your_app_name')"
      ],
      "execution_count": 4,
      "outputs": []
    },
    {
      "cell_type": "code",
      "metadata": {
        "id": "bOX6H2D-cANI"
      },
      "source": [
        "from geopy.distance import geodesic"
      ],
      "execution_count": 5,
      "outputs": []
    },
    {
      "cell_type": "code",
      "metadata": {
        "colab": {
          "base_uri": "https://localhost:8080/"
        },
        "id": "0K5KX_x7etR-",
        "outputId": "64261522-9da9-41ac-f608-7eb686e0dbfb"
      },
      "source": [
        "Cairo = (30.033333, 31.233334)\n",
        "Alexandria = (31.205753, 29.924526)\n",
        "  \n",
        "# Print the distance calculated in miles\n",
        "print(geodesic(Cairo, Alexandria).miles)"
      ],
      "execution_count": null,
      "outputs": [
        {
          "output_type": "stream",
          "text": [
            "112.26161633981152\n"
          ],
          "name": "stdout"
        }
      ]
    },
    {
      "cell_type": "code",
      "metadata": {
        "colab": {
          "base_uri": "https://localhost:8080/"
        },
        "id": "5tB0Y01RMZWw",
        "outputId": "e0e8b768-0236-4b87-e9af-c0bd59a2a888"
      },
      "source": [
        "Cairo = (30.033333, 31.233334)\n",
        "Alexandria = (31.205753, 29.924526)\n",
        "  \n",
        "# Print the distance calculated in miles\n",
        "print(geodesic(Cairo, Alexandria).miles)"
      ],
      "execution_count": 8,
      "outputs": [
        {
          "output_type": "stream",
          "text": [
            "112.26161633981152\n"
          ],
          "name": "stdout"
        }
      ]
    }
  ]
}